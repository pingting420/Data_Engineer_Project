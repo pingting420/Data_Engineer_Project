{
 "cells": [
  {
   "cell_type": "code",
   "execution_count": 1,
   "id": "2cf9fbdb",
   "metadata": {},
   "outputs": [],
   "source": [
    "import pandas as pd\n",
    "import s3fs\n",
    "fs = s3fs.S3FileSystem()"
   ]
  },
  {
   "cell_type": "code",
   "execution_count": 2,
   "id": "544bbdc9",
   "metadata": {},
   "outputs": [],
   "source": [
    "def search_image(root_path, all_files = []):\n",
    "    files = fs.ls(root_path) \n",
    "    for file in files:\n",
    "        if not fs.isdir(file):\n",
    "            all_files.append(file)\n",
    "        else:\n",
    "            search_image(file,all_files)\n",
    "    return all_files\n",
    "absroot = 's3://...' \n",
    "files = search_image(absroot)"
   ]
  },
  {
   "cell_type": "code",
   "execution_count": 3,
   "id": "01d0eff2",
   "metadata": {},
   "outputs": [],
   "source": [
    "df = pd.DataFrame (files, columns = ['image_name'])"
   ]
  },
  {
   "cell_type": "code",
   "execution_count": 4,
   "id": "919b3477",
   "metadata": {},
   "outputs": [],
   "source": [
    "df.to_excel(\"file_name.xlsx\")"
   ]
  },
  {
   "cell_type": "code",
   "execution_count": null,
   "id": "b03b5016",
   "metadata": {},
   "outputs": [],
   "source": []
  }
 ],
 "metadata": {
  "kernelspec": {
   "display_name": "conda_python3",
   "language": "python",
   "name": "conda_python3"
  },
  "language_info": {
   "codemirror_mode": {
    "name": "ipython",
    "version": 3
   },
   "file_extension": ".py",
   "mimetype": "text/x-python",
   "name": "python",
   "nbconvert_exporter": "python",
   "pygments_lexer": "ipython3",
   "version": "3.6.13"
  }
 },
 "nbformat": 4,
 "nbformat_minor": 5
}
