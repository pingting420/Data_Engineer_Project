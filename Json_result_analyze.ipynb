{
 "cells": [
  {
   "cell_type": "code",
   "execution_count": 1,
   "id": "fe144431",
   "metadata": {},
   "outputs": [],
   "source": [
    "import json\n",
    "import base64\n",
    "import pandas as pd\n",
    "import s3fs\n",
    "import os\n",
    "import boto3\n",
    "s3_client = boto3.client('s3', region_name='us-east-2')"
   ]
  },
  {
   "cell_type": "code",
   "execution_count": 2,
   "id": "329a8f62",
   "metadata": {},
   "outputs": [],
   "source": [
    "fs = s3fs.S3FileSystem()"
   ]
  },
  {
   "cell_type": "code",
   "execution_count": 3,
   "id": "11acef3f",
   "metadata": {},
   "outputs": [],
   "source": [
    "file = fs.ls('s3:...')  #change the path here\n",
    "json_file = file[1:]"
   ]
  },
  {
   "cell_type": "code",
   "execution_count": 4,
   "id": "40cac1eb",
   "metadata": {},
   "outputs": [],
   "source": [
    "df = pd.DataFrame(json_file, columns = ['id'])\n",
    "#df"
   ]
  },
  {
   "cell_type": "code",
   "execution_count": 5,
   "id": "c7d4c56e",
   "metadata": {},
   "outputs": [],
   "source": [
    "import json\n",
    "import boto3\n",
    "scores = []\n",
    "results = []\n",
    "for file in json_file:\n",
    "    data= s3_client.get_object(Bucket='ingo-images', Key=file[12:])\n",
    "    client = data['Body'].read().decode()\n",
    "    json_data = json.loads(client)\n",
    "    a = json_data['predictions'][0]['classes']\n",
    "    results.append(a)\n",
    "    b = json_data['predictions'][0]['scores']\n",
    "    scores.append(b)"
   ]
  },
  {
   "cell_type": "code",
   "execution_count": 6,
   "id": "cf2fee73",
   "metadata": {},
   "outputs": [],
   "source": [
    "df_results = pd.DataFrame(results, columns = ['results1','results2','results3','results4']) \n",
    "#df_results"
   ]
  },
  {
   "cell_type": "code",
   "execution_count": 7,
   "id": "51e85459",
   "metadata": {},
   "outputs": [],
   "source": [
    "my_list_a_df = pd.DataFrame(scores, columns = ['scores1','scores2','scores3','scores4'])\n",
    "#my_list_a_df"
   ]
  },
  {
   "cell_type": "code",
   "execution_count": 8,
   "id": "1c2b8897",
   "metadata": {},
   "outputs": [],
   "source": [
    "df_final_score = pd.concat([df,df_results], axis = 1)\n",
    "df_final_final_score = pd.concat([df_final_score,my_list_a_df], axis=1)"
   ]
  },
  {
   "cell_type": "code",
   "execution_count": 9,
   "id": "cb9effd7",
   "metadata": {},
   "outputs": [],
   "source": [
    "arr_classify = pd.Series([None]*len(df), index=df_final_final_score.index)\n",
    "arr_prob = pd.Series([None]*len(df), index=df_final_final_score.index)"
   ]
  },
  {
   "cell_type": "code",
   "execution_count": 10,
   "id": "f43c8da3",
   "metadata": {},
   "outputs": [],
   "source": [
    "for index, row in df_final_final_score.iterrows():\n",
    "    if row[\"results1\"]==\"Crystals\" and row[\"scores1\"]>=0.85:\n",
    "        arr_classify[index]=1\n",
    "    else:\n",
    "        arr_classify[index]=0\n",
    "    index_crystal = 0\n",
    "    for i in range(1, 5):\n",
    "        if row[i]==\"Crystals\":\n",
    "            index_crystal = i\n",
    "            break\n",
    "    arr_prob[index] = row[index_crystal+4]"
   ]
  },
  {
   "cell_type": "code",
   "execution_count": 11,
   "id": "4f21ce79",
   "metadata": {},
   "outputs": [],
   "source": [
    "df_final_final_score[\"classify\"] = arr_classify\n",
    "df_final_final_score[\"prob\"] = arr_prob"
   ]
  },
  {
   "cell_type": "code",
   "execution_count": 12,
   "id": "701a5b6d",
   "metadata": {},
   "outputs": [],
   "source": [
    "df_final = df_final_final_score[[\"id\",\"classify\",\"prob\"]]"
   ]
  },
  {
   "cell_type": "code",
   "execution_count": 13,
   "id": "698d4c9d",
   "metadata": {},
   "outputs": [],
   "source": [
    "df_final.to_excel(\"json_result_xdmj.xlsx\")"
   ]
  },
  {
   "cell_type": "code",
   "execution_count": null,
   "id": "b4c222b7",
   "metadata": {},
   "outputs": [],
   "source": []
  }
 ],
 "metadata": {
  "kernelspec": {
   "display_name": "conda_python3",
   "language": "python",
   "name": "conda_python3"
  },
  "language_info": {
   "codemirror_mode": {
    "name": "ipython",
    "version": 3
   },
   "file_extension": ".py",
   "mimetype": "text/x-python",
   "name": "python",
   "nbconvert_exporter": "python",
   "pygments_lexer": "ipython3",
   "version": "3.6.13"
  }
 },
 "nbformat": 4,
 "nbformat_minor": 5
}
