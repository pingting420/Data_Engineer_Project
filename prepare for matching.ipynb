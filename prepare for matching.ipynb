{
 "cells": [
  {
   "cell_type": "code",
   "execution_count": 1,
   "id": "f8558760",
   "metadata": {},
   "outputs": [],
   "source": [
    "import pandas as pd\n",
    "import numpy as np"
   ]
  },
  {
   "cell_type": "markdown",
   "id": "2d951c51",
   "metadata": {},
   "source": [
    "# precess the marco's result table"
   ]
  },
  {
   "cell_type": "code",
   "execution_count": 3,
   "id": "59ebe349",
   "metadata": {},
   "outputs": [],
   "source": [
    "data = pd.read_csv(\"json_result_xdmj.csv\")"
   ]
  },
  {
   "cell_type": "code",
   "execution_count": null,
   "id": "9c4bf3ed",
   "metadata": {},
   "outputs": [],
   "source": [
    "data.head(10)"
   ]
  },
  {
   "cell_type": "code",
   "execution_count": 9,
   "id": "5f43d906",
   "metadata": {},
   "outputs": [
    {
     "data": {
      "text/plain": [
       "'200207_180003'"
      ]
     },
     "execution_count": 9,
     "metadata": {},
     "output_type": "execute_result"
    }
   ],
   "source": [
    "data[\"id\"][1][70:83]"
   ]
  },
  {
   "cell_type": "code",
   "execution_count": 60,
   "id": "b991197c",
   "metadata": {},
   "outputs": [
    {
     "data": {
      "text/plain": [
       "'xdmj1-019_A01-1'"
      ]
     },
     "execution_count": 60,
     "metadata": {},
     "output_type": "execute_result"
    }
   ],
   "source": [
    "data[\"id\"][1][48:63]"
   ]
  },
  {
   "cell_type": "code",
   "execution_count": 21,
   "id": "1c55881a",
   "metadata": {},
   "outputs": [
    {
     "data": {
      "text/plain": [
       "'ingo-images/Fiona_Test/xdmj_json_result/cropped_xdmj1-019_A01-1'"
      ]
     },
     "execution_count": 21,
     "metadata": {},
     "output_type": "execute_result"
    }
   ],
   "source": [
    "data[\"id\"][1][0:63]"
   ]
  },
  {
   "cell_type": "code",
   "execution_count": 12,
   "id": "ad378153",
   "metadata": {},
   "outputs": [
    {
     "data": {
      "text/plain": [
       "'200207180003'"
      ]
     },
     "execution_count": 12,
     "metadata": {},
     "output_type": "execute_result"
    }
   ],
   "source": [
    "(data[\"id\"][1][70:76]) + (data[\"id\"][1][77:83])"
   ]
  },
  {
   "cell_type": "code",
   "execution_count": null,
   "id": "a51bba21",
   "metadata": {},
   "outputs": [],
   "source": [
    "data_number = data['id'].str.slice(0,63)\n",
    "data_number"
   ]
  },
  {
   "cell_type": "code",
   "execution_count": 13,
   "id": "cb59758b",
   "metadata": {},
   "outputs": [],
   "source": [
    "data_time = (data['id'].str.slice(70,76))+(data[\"id\"].str.slice(77,83))"
   ]
  },
  {
   "cell_type": "code",
   "execution_count": 14,
   "id": "8797ff2f",
   "metadata": {},
   "outputs": [
    {
     "data": {
      "text/plain": [
       "0       200207151809\n",
       "1       200207180003\n",
       "2       200207201522\n",
       "3       200207211425\n",
       "4       200207221330\n",
       "            ...     \n",
       "6331    200211173628\n",
       "6332    200218180044\n",
       "6333    200227173622\n",
       "6334    200307180327\n",
       "6335    200414210844\n",
       "Name: id, Length: 6336, dtype: object"
      ]
     },
     "execution_count": 14,
     "metadata": {},
     "output_type": "execute_result"
    }
   ],
   "source": [
    "data_time"
   ]
  },
  {
   "cell_type": "code",
   "execution_count": null,
   "id": "09afda56",
   "metadata": {},
   "outputs": [],
   "source": [
    "data['data_time'] = data_time\n",
    "data"
   ]
  },
  {
   "cell_type": "code",
   "execution_count": null,
   "id": "14bb7f38",
   "metadata": {},
   "outputs": [],
   "source": [
    "data['data_number'] = data_number\n",
    "data"
   ]
  },
  {
   "cell_type": "code",
   "execution_count": null,
   "id": "09af7374",
   "metadata": {
    "scrolled": true
   },
   "outputs": [],
   "source": [
    "data_reorganize = data.groupby('data_number').apply(lambda t: t[data_time==t.data_time.max()])\n",
    "data_reorganize"
   ]
  },
  {
   "cell_type": "code",
   "execution_count": 61,
   "id": "198869a4",
   "metadata": {},
   "outputs": [],
   "source": [
    "extract_column = data_reorganize[\"data_number\"].str.slice(48,63)"
   ]
  },
  {
   "cell_type": "code",
   "execution_count": 63,
   "id": "5fa2c930",
   "metadata": {},
   "outputs": [],
   "source": [
    "data_reorganize[\"extract_column\"] = extract_column"
   ]
  },
  {
   "cell_type": "code",
   "execution_count": null,
   "id": "a35e26bc",
   "metadata": {},
   "outputs": [],
   "source": [
    "data_reorganize"
   ]
  },
  {
   "cell_type": "code",
   "execution_count": 33,
   "id": "e90a7473",
   "metadata": {},
   "outputs": [],
   "source": [
    "#data_reorganize.to_csv(\"reorganize_data.csv\")"
   ]
  },
  {
   "cell_type": "markdown",
   "id": "95551123",
   "metadata": {},
   "source": [
    "# Precess the condition table"
   ]
  },
  {
   "cell_type": "code",
   "execution_count": 36,
   "id": "5778204d",
   "metadata": {},
   "outputs": [],
   "source": [
    "condition_data = pd.read_csv(\"xdmj_condition.csv\")"
   ]
  },
  {
   "cell_type": "code",
   "execution_count": null,
   "id": "ee588a5f",
   "metadata": {},
   "outputs": [],
   "source": [
    "condition_data"
   ]
  },
  {
   "cell_type": "code",
   "execution_count": 38,
   "id": "9c1b6c88",
   "metadata": {},
   "outputs": [],
   "source": [
    "condition_data[\"QuadrantPositionName\"] = condition_data[\"QuadrantPositionName\"].str.upper()"
   ]
  },
  {
   "cell_type": "code",
   "execution_count": 40,
   "id": "d6c70ea9",
   "metadata": {},
   "outputs": [],
   "source": [
    "match_column = (condition_data[\"QuadrantPositionName\"].str.slice(0,1))+\"0\"+(condition_data[\"QuadrantPositionName\"].str.slice(1,2))"
   ]
  },
  {
   "cell_type": "code",
   "execution_count": null,
   "id": "358014da",
   "metadata": {},
   "outputs": [],
   "source": [
    "condition_data['match_column'] = match_column\n",
    "condition_data"
   ]
  },
  {
   "cell_type": "code",
   "execution_count": 44,
   "id": "a51b5171",
   "metadata": {},
   "outputs": [],
   "source": [
    "condition_data.to_csv(\"condition_data.csv\")"
   ]
  },
  {
   "cell_type": "code",
   "execution_count": 45,
   "id": "fbbd6956",
   "metadata": {},
   "outputs": [
    {
     "data": {
      "text/plain": [
       "0           top\n",
       "1           top\n",
       "2           top\n",
       "3           top\n",
       "4           top\n",
       "          ...  \n",
       "11209    center\n",
       "11210    center\n",
       "11211    center\n",
       "11212    center\n",
       "11213       NaN\n",
       "Name: DropPositionName, Length: 11214, dtype: object"
      ]
     },
     "execution_count": 45,
     "metadata": {},
     "output_type": "execute_result"
    }
   ],
   "source": [
    "condition_data['DropPositionName']"
   ]
  },
  {
   "cell_type": "code",
   "execution_count": 48,
   "id": "7f030c0a",
   "metadata": {},
   "outputs": [],
   "source": [
    "def t(x):\n",
    "    if x=='top':\n",
    "        return '1'\n",
    "    if x=='center':\n",
    "        return '2'\n",
    "    if x=='bottom':\n",
    "        return '3'"
   ]
  },
  {
   "cell_type": "code",
   "execution_count": 51,
   "id": "f1e950aa",
   "metadata": {},
   "outputs": [],
   "source": [
    "DropPositionName_new = condition_data['DropPositionName'].apply(t)"
   ]
  },
  {
   "cell_type": "code",
   "execution_count": null,
   "id": "781eadbe",
   "metadata": {},
   "outputs": [],
   "source": [
    "condition_data"
   ]
  },
  {
   "cell_type": "code",
   "execution_count": null,
   "id": "dce14d3f",
   "metadata": {},
   "outputs": [],
   "source": [
    "condition_data['DropPositionName_new'] = DropPositionName_new\n",
    "condition_data"
   ]
  },
  {
   "cell_type": "code",
   "execution_count": 53,
   "id": "b9376814",
   "metadata": {},
   "outputs": [
    {
     "data": {
      "text/plain": [
       "0        xdmj1-001\n",
       "1        xdmj1-001\n",
       "2        xdmj1-001\n",
       "3        xdmj1-001\n",
       "4        xdmj1-001\n",
       "           ...    \n",
       "11209    xdmj1-034\n",
       "11210    xdmj1-034\n",
       "11211    xdmj1-034\n",
       "11212    xdmj1-034\n",
       "11213          NaN\n",
       "Name: TrayNameRhombix, Length: 11214, dtype: object"
      ]
     },
     "execution_count": 53,
     "metadata": {},
     "output_type": "execute_result"
    }
   ],
   "source": [
    "TrayNameRhombix_New = condition_data['TrayNameRhombix'].str.slice(0,10)\n",
    "TrayNameRhombix_New"
   ]
  },
  {
   "cell_type": "code",
   "execution_count": null,
   "id": "06d7430a",
   "metadata": {},
   "outputs": [],
   "source": [
    "condition_data['TrayNameRhombix_New'] =TrayNameRhombix_New\n",
    "condition_data"
   ]
  },
  {
   "cell_type": "code",
   "execution_count": 55,
   "id": "7c52c80a",
   "metadata": {},
   "outputs": [],
   "source": [
    "extract_column =  (condition_data[\"TrayNameRhombix_New\"].str.slice(0,9))+\"_\"+(condition_data[\"match_column\"].str.slice(0,3) +'-'+\n",
    "                                                                             condition_data[\"DropPositionName_new\"].str.slice(0,1))"
   ]
  },
  {
   "cell_type": "code",
   "execution_count": null,
   "id": "14a6fb79",
   "metadata": {},
   "outputs": [],
   "source": [
    "condition_data['extract_column'] =extract_column\n",
    "condition_data"
   ]
  },
  {
   "cell_type": "markdown",
   "id": "2aa4a633",
   "metadata": {},
   "source": [
    "# Match two tables"
   ]
  },
  {
   "cell_type": "code",
   "execution_count": 65,
   "id": "48c35a52",
   "metadata": {},
   "outputs": [],
   "source": [
    "after_match_condition = pd.merge(left =data_reorganize, right = condition_data, how = 'inner', on = 'extract_column' )"
   ]
  },
  {
   "cell_type": "code",
   "execution_count": null,
   "id": "37b573e0",
   "metadata": {},
   "outputs": [],
   "source": [
    "after_match_condition"
   ]
  },
  {
   "cell_type": "code",
   "execution_count": 69,
   "id": "66aa557f",
   "metadata": {},
   "outputs": [],
   "source": [
    "after_match_condition.to_csv(\"after_match_condition.csv\")"
   ]
  },
  {
   "cell_type": "code",
   "execution_count": null,
   "id": "3d3c62ec",
   "metadata": {},
   "outputs": [],
   "source": []
  }
 ],
 "metadata": {
  "kernelspec": {
   "display_name": "conda_python3",
   "language": "python",
   "name": "conda_python3"
  },
  "language_info": {
   "codemirror_mode": {
    "name": "ipython",
    "version": 3
   },
   "file_extension": ".py",
   "mimetype": "text/x-python",
   "name": "python",
   "nbconvert_exporter": "python",
   "pygments_lexer": "ipython3",
   "version": "3.6.13"
  }
 },
 "nbformat": 4,
 "nbformat_minor": 5
}
