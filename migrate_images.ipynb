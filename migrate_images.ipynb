{
 "cells": [
  {
   "cell_type": "markdown",
   "id": "b7779df2",
   "metadata": {},
   "source": [
    "whole process:\n",
    "    1. search for the file for the folder\n",
    "    2. use boto3 to read the file\n",
    "    3. write into the new folder"
   ]
  },
  {
   "cell_type": "code",
   "execution_count": 38,
   "id": "5abaa7ae",
   "metadata": {},
   "outputs": [],
   "source": [
    "import boto3\n",
    "import io\n",
    "from PIL import Image\n",
    "import s3fs\n",
    "fs = s3fs.S3FileSystem()\n",
    "s3 = boto3.client('s3', region_name='us-east-2')\n",
    "import tensorflow as tf\n",
    "import pandas as pd\n",
    "from tensorflow.contrib.predictor import from_saved_model\n",
    "import s3fs"
   ]
  },
  {
   "cell_type": "code",
   "execution_count": 39,
   "id": "587885ee",
   "metadata": {},
   "outputs": [],
   "source": [
    "#search images\n",
    "def search_image(root_path, all_files = []):\n",
    "    files = fs.ls(root_path) \n",
    "    for file in files:\n",
    "        if not fs.isdir(file):\n",
    "            all_files.append(file)\n",
    "        else:\n",
    "            search_image(file,all_files)\n",
    "    return all_files"
   ]
  },
  {
   "cell_type": "code",
   "execution_count": 40,
   "id": "f4117ece",
   "metadata": {},
   "outputs": [
    {
     "data": {
      "text/plain": [
       "['ingo-images/all_images/IMAGESTOR-04/Default/TEST00_MRC2-1',\n",
       " 'ingo-images/all_images/IMAGESTOR-04/Default/TestWin10',\n",
       " 'ingo-images/all_images/IMAGESTOR-04/Default/TesyWin10',\n",
       " 'ingo-images/all_images/IMAGESTOR-04/Default/xcxw3-149',\n",
       " 'ingo-images/all_images/IMAGESTOR-04/Default/xdfp35-079',\n",
       " 'ingo-images/all_images/IMAGESTOR-04/Default/xdfp40-030',\n",
       " 'ingo-images/all_images/IMAGESTOR-04/Default/xdhn3-062',\n",
       " 'ingo-images/all_images/IMAGESTOR-04/Default/xdmf3-006',\n",
       " 'ingo-images/all_images/IMAGESTOR-04/Default/xdmi1-007',\n",
       " 'ingo-images/all_images/IMAGESTOR-04/Default/xdmj1-019',\n",
       " 'ingo-images/all_images/IMAGESTOR-04/Default/xdmj1-020']"
      ]
     },
     "execution_count": 40,
     "metadata": {},
     "output_type": "execute_result"
    }
   ],
   "source": [
    "subdirs = fs.ls('s3://...')\n",
    "subdirs"
   ]
  },
  {
   "cell_type": "code",
   "execution_count": 41,
   "id": "d88c0dca",
   "metadata": {},
   "outputs": [
    {
     "data": {
      "text/plain": [
       "'xdmj'"
      ]
     },
     "execution_count": 41,
     "metadata": {},
     "output_type": "execute_result"
    }
   ],
   "source": [
    "subdirs[9][-9:-5]#"
   ]
  },
  {
   "cell_type": "code",
   "execution_count": 42,
   "id": "776bf4dc",
   "metadata": {},
   "outputs": [],
   "source": [
    "subdirs = fs.ls('s3:...')\n",
    "absroot = []\n",
    "for d in subdirs:\n",
    "    if (d[-9:-5] == 'xdmj'):\n",
    "        absroot.append(d)\n",
    "for i in absroot:\n",
    "    files = search_image(i)"
   ]
  },
  {
   "cell_type": "code",
   "execution_count": 43,
   "id": "64d3dcc2",
   "metadata": {},
   "outputs": [],
   "source": [
    "def transfer_files(s3, old_path:tuple, new_path:tuple):\n",
    "    down_stream = s3.get_object(Bucket=old_path[0],Key=old_path[1])['Body']\n",
    "    im = Image.open(down_stream)\n",
    "    up_stream = io.BytesIO()\n",
    "    im.save(up_stream, format=im.format)\n",
    "    up_stream.seek(0)\n",
    "    s3.upload_fileobj(up_stream, new_path[0], new_path[1])\n",
    "    down_stream.close()\n",
    "    up_stream.close()\n",
    "    return "
   ]
  },
  {
   "cell_type": "code",
   "execution_count": 44,
   "id": "65158c9f",
   "metadata": {},
   "outputs": [],
   "source": [
    "for old_path in files:\n",
    "    pos = old_path.find('/')\n",
    "    old_path = (old_path[:pos],old_path[pos+1:])\n",
    "    k = old_path[1]\n",
    "    p = k.rfind('/')\n",
    "    new_path = ('Bucket Name','Object Nmae'+k[p+1:])\n",
    "    transfer_files(s3, old_path, new_path)"
   ]
  },
  {
   "cell_type": "code",
   "execution_count": null,
   "id": "39c13d2c",
   "metadata": {},
   "outputs": [],
   "source": []
  }
 ],
 "metadata": {
  "kernelspec": {
   "display_name": "conda_amazonei_tensorflow_p36",
   "language": "python",
   "name": "conda_amazonei_tensorflow_p36"
  },
  "language_info": {
   "codemirror_mode": {
    "name": "ipython",
    "version": 3
   },
   "file_extension": ".py",
   "mimetype": "text/x-python",
   "name": "python",
   "nbconvert_exporter": "python",
   "pygments_lexer": "ipython3",
   "version": "3.6.10"
  }
 },
 "nbformat": 4,
 "nbformat_minor": 5
}
