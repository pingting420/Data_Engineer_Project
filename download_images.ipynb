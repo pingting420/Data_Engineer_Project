{
 "cells": [
  {
   "cell_type": "markdown",
   "id": "b1e65435",
   "metadata": {},
   "source": [
    "This pipeline could download batch images from S3 bucket to local."
   ]
  },
  {
   "cell_type": "code",
   "execution_count": 1,
   "id": "bd9a7276",
   "metadata": {
    "scrolled": true
   },
   "outputs": [
    {
     "name": "stdout",
     "output_type": "stream",
     "text": [
      "Requirement already satisfied: pandas in c:\\users\\liu2106\\anaconda3\\lib\\site-packages (1.3.4)\n",
      "Requirement already satisfied: numpy>=1.17.3 in c:\\users\\liu2106\\anaconda3\\lib\\site-packages (from pandas) (1.20.3)\n",
      "Requirement already satisfied: pytz>=2017.3 in c:\\users\\liu2106\\anaconda3\\lib\\site-packages (from pandas) (2021.3)\n",
      "Requirement already satisfied: python-dateutil>=2.7.3 in c:\\users\\liu2106\\anaconda3\\lib\\site-packages (from pandas) (2.8.2)\n",
      "Requirement already satisfied: six>=1.5 in c:\\users\\liu2106\\anaconda3\\lib\\site-packages (from python-dateutil>=2.7.3->pandas) (1.16.0)\n",
      "Note: you may need to restart the kernel to use updated packages.\n"
     ]
    }
   ],
   "source": [
    "pip install pandas"
   ]
  },
  {
   "cell_type": "code",
   "execution_count": 2,
   "id": "1b82b5eb",
   "metadata": {},
   "outputs": [
    {
     "name": "stdout",
     "output_type": "stream",
     "text": [
      "Requirement already satisfied: boto3 in c:\\users\\liu2106\\anaconda3\\lib\\site-packages (1.20.46)Note: you may need to restart the kernel to use updated packages.\n",
      "\n",
      "Requirement already satisfied: botocore<1.24.0,>=1.23.46 in c:\\users\\liu2106\\anaconda3\\lib\\site-packages (from boto3) (1.23.46)\n",
      "Requirement already satisfied: jmespath<1.0.0,>=0.7.1 in c:\\users\\liu2106\\anaconda3\\lib\\site-packages (from boto3) (0.10.0)\n",
      "Requirement already satisfied: s3transfer<0.6.0,>=0.5.0 in c:\\users\\liu2106\\anaconda3\\lib\\site-packages (from boto3) (0.5.0)\n",
      "Requirement already satisfied: python-dateutil<3.0.0,>=2.1 in c:\\users\\liu2106\\anaconda3\\lib\\site-packages (from botocore<1.24.0,>=1.23.46->boto3) (2.8.2)\n",
      "Requirement already satisfied: urllib3<1.27,>=1.25.4 in c:\\users\\liu2106\\anaconda3\\lib\\site-packages (from botocore<1.24.0,>=1.23.46->boto3) (1.26.7)\n",
      "Requirement already satisfied: six>=1.5 in c:\\users\\liu2106\\anaconda3\\lib\\site-packages (from python-dateutil<3.0.0,>=2.1->botocore<1.24.0,>=1.23.46->boto3) (1.16.0)\n"
     ]
    }
   ],
   "source": [
    "pip install boto3"
   ]
  },
  {
   "cell_type": "code",
   "execution_count": 3,
   "id": "b313e2dc",
   "metadata": {},
   "outputs": [],
   "source": [
    "import pandas as pd\n",
    "import os\n",
    "import boto3"
   ]
  },
  {
   "cell_type": "code",
   "execution_count": 5,
   "id": "2a7d86d6",
   "metadata": {},
   "outputs": [],
   "source": [
    "df_cropped = pd.read_excel(r'C:\\Users\\....xlsx')"
   ]
  },
  {
   "cell_type": "code",
   "execution_count": 6,
   "id": "27da8b5c",
   "metadata": {},
   "outputs": [
    {
     "name": "stdout",
     "output_type": "stream",
     "text": [
      "Requirement already satisfied: openpyxl in c:\\users\\liu2106\\anaconda3\\lib\\site-packages (3.0.9)\n",
      "Requirement already satisfied: et-xmlfile in c:\\users\\liu2106\\anaconda3\\lib\\site-packages (from openpyxl) (1.1.0)\n",
      "Note: you may need to restart the kernel to use updated packages.\n"
     ]
    }
   ],
   "source": [
    "pip install openpyxl"
   ]
  },
  {
   "cell_type": "code",
   "execution_count": null,
   "id": "49c46f4a",
   "metadata": {},
   "outputs": [],
   "source": [
    "df_cropped"
   ]
  },
  {
   "cell_type": "code",
   "execution_count": 8,
   "id": "b419acab",
   "metadata": {},
   "outputs": [],
   "source": [
    "s3 = boto3.client('s3')"
   ]
  },
  {
   "cell_type": "code",
   "execution_count": 9,
   "id": "2b0185d1",
   "metadata": {},
   "outputs": [],
   "source": [
    "s3 = boto3.client('s3')\n",
    "bucket = 'ingo-images'\n",
    "ldir = 'C:/users/Liu2106/Desktop'\n",
    "for f in df_cropped['id']:\n",
    "    beg_index = f.find(bucket)\n",
    "    if beg_index != -1:\n",
    "        key = f[beg_index+len(bucket)+1:]\n",
    "        end_index = f.rfind('/')\n",
    "        filename = os.path.normcase(os.path.join(ldir, bucket, f[end_index+1:]))\n",
    "        s3.download_file(bucket, key, filename)"
   ]
  }
 ],
 "metadata": {
  "kernelspec": {
   "display_name": "Python 3 (ipykernel)",
   "language": "python",
   "name": "python3"
  },
  "language_info": {
   "codemirror_mode": {
    "name": "ipython",
    "version": 3
   },
   "file_extension": ".py",
   "mimetype": "text/x-python",
   "name": "python",
   "nbconvert_exporter": "python",
   "pygments_lexer": "ipython3",
   "version": "3.9.7"
  }
 },
 "nbformat": 4,
 "nbformat_minor": 5
}
