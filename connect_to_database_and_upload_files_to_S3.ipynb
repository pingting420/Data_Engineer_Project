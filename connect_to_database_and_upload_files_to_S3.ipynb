{
 "cells": [
  {
   "cell_type": "code",
   "execution_count": null,
   "id": "188bf256",
   "metadata": {},
   "outputs": [],
   "source": [
    "This pipeline halp Sagemaker connect to Database, query files and upload target files to S3 bucket."
   ]
  },
  {
   "cell_type": "code",
   "execution_count": 1,
   "id": "7f4ac6d9",
   "metadata": {
    "scrolled": false
   },
   "outputs": [
    {
     "name": "stdout",
     "output_type": "stream",
     "text": [
      "Requirement already satisfied: mysql-connector-python in /home/ec2-user/anaconda3/envs/python3/lib/python3.6/site-packages (8.0.28)\n",
      "Requirement already satisfied: protobuf>=3.0.0 in /home/ec2-user/anaconda3/envs/python3/lib/python3.6/site-packages (from mysql-connector-python) (3.15.2)\n",
      "Requirement already satisfied: six>=1.9 in /home/ec2-user/anaconda3/envs/python3/lib/python3.6/site-packages (from protobuf>=3.0.0->mysql-connector-python) (1.15.0)\n",
      "Note: you may need to restart the kernel to use updated packages.\n"
     ]
    }
   ],
   "source": [
    "pip install mysql-connector-python"
   ]
  },
  {
   "cell_type": "code",
   "execution_count": 2,
   "id": "b5879a64",
   "metadata": {},
   "outputs": [],
   "source": [
    "import mysql.connector"
   ]
  },
  {
   "cell_type": "code",
   "execution_count": 3,
   "id": "6e5a29b5",
   "metadata": {
    "scrolled": true
   },
   "outputs": [],
   "source": [
    "mydb = mysql.connector.connect(\n",
    "  host=\"...\",\n",
    "  user=\"admin\",\n",
    "  password=\"...\",\n",
    "  database=\"...\"\n",
    ")"
   ]
  },
  {
   "cell_type": "code",
   "execution_count": 4,
   "id": "dfb59d68",
   "metadata": {},
   "outputs": [
    {
     "name": "stdout",
     "output_type": "stream",
     "text": [
      "<mysql.connector.connection_cext.CMySQLConnection object at 0x7fb5ca7466a0>\n"
     ]
    }
   ],
   "source": [
    "print(mydb)\n",
    "mycursor = mydb.cursor()"
   ]
  },
  {
   "cell_type": "code",
   "execution_count": 5,
   "id": "d214224e",
   "metadata": {
    "scrolled": true
   },
   "outputs": [],
   "source": [
    "mycursor.execute(\"Select summary_file_key from summary_file_records where condition_id in (select condition_id from v_base_data where campaign_id = 10151)\")"
   ]
  },
  {
   "cell_type": "code",
   "execution_count": 6,
   "id": "d84edd30",
   "metadata": {},
   "outputs": [],
   "source": [
    "myresult = mycursor.fetchall()"
   ]
  },
  {
   "cell_type": "code",
   "execution_count": 7,
   "id": "91a424db",
   "metadata": {},
   "outputs": [],
   "source": [
    "ans = []\n",
    "for x in myresult:\n",
    "    str_x = ''.join(x)\n",
    "    ans.append(str_x)"
   ]
  },
  {
   "cell_type": "code",
   "execution_count": null,
   "id": "5d953b37",
   "metadata": {},
   "outputs": [],
   "source": [
    "print(ans)"
   ]
  },
  {
   "cell_type": "code",
   "execution_count": 12,
   "id": "34e56640",
   "metadata": {},
   "outputs": [],
   "source": [
    "import pandas as pd\n",
    "df = pd.DataFrame(data=ans, columns=['file'])"
   ]
  },
  {
   "cell_type": "code",
   "execution_count": null,
   "id": "f4803d61",
   "metadata": {},
   "outputs": [],
   "source": [
    "df"
   ]
  },
  {
   "cell_type": "code",
   "execution_count": 16,
   "id": "a73e56c9",
   "metadata": {},
   "outputs": [],
   "source": [
    "import boto3\n",
    "s3 = boto3.client('s3', region_name='us-east-2')"
   ]
  },
  {
   "cell_type": "code",
   "execution_count": 28,
   "id": "8db1a4d4",
   "metadata": {},
   "outputs": [],
   "source": [
    "for item in df['file']:\n",
    "    _, filename = item.split('/',maxsplit=1)\n",
    "    bucket = 'hits-prod'\n",
    "    target_parent = 'download_files'\n",
    "    s3.download_file(bucket, item, 'temp.csv')\n",
    "    s3.upload_file('temp.csv', bucket, target_parent+'/'+filename)"
   ]
  },
  {
   "cell_type": "code",
   "execution_count": 19,
   "id": "6956f4ad",
   "metadata": {},
   "outputs": [
    {
     "data": {
      "text/plain": [
       "'summary_files_internal/306228_10061_10151_1419_3701_10206_summary.csv'"
      ]
     },
     "execution_count": 19,
     "metadata": {},
     "output_type": "execute_result"
    }
   ],
   "source": [
    "df.iloc[0]['file']"
   ]
  },
  {
   "cell_type": "code",
   "execution_count": 21,
   "id": "43905b91",
   "metadata": {},
   "outputs": [],
   "source": [
    "s3.download_file('hits-prod','summary_files_internal/306228_10061_10151_1419_3701_10206_summary.csv', 'temp.csv')"
   ]
  },
  {
   "cell_type": "code",
   "execution_count": 22,
   "id": "d6c17acb",
   "metadata": {},
   "outputs": [],
   "source": [
    "s3.upload_file('temp.csv', 'hits-prod','download_files/306228_10061_10151_1419_3701_10206_summary.csv')"
   ]
  },
  {
   "cell_type": "code",
   "execution_count": null,
   "id": "27a18e24",
   "metadata": {},
   "outputs": [],
   "source": []
  }
 ],
 "metadata": {
  "kernelspec": {
   "display_name": "conda_python3",
   "language": "python",
   "name": "conda_python3"
  },
  "language_info": {
   "codemirror_mode": {
    "name": "ipython",
    "version": 3
   },
   "file_extension": ".py",
   "mimetype": "text/x-python",
   "name": "python",
   "nbconvert_exporter": "python",
   "pygments_lexer": "ipython3",
   "version": "3.6.13"
  }
 },
 "nbformat": 4,
 "nbformat_minor": 5
}
