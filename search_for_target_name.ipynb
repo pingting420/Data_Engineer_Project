{
 "cells": [
  {
   "cell_type": "code",
   "execution_count": null,
   "id": "81ab487d",
   "metadata": {},
   "outputs": [],
   "source": [
    "This pipeline help to find the images names as 'xdfp11...'"
   ]
  },
  {
   "cell_type": "code",
   "execution_count": 1,
   "id": "a9bf8cc8",
   "metadata": {},
   "outputs": [],
   "source": [
    "import tensorflow as tf\n",
    "import pandas as pd\n",
    "from tensorflow.contrib.predictor import from_saved_model\n",
    "import s3fs"
   ]
  },
  {
   "cell_type": "code",
   "execution_count": 2,
   "id": "8750e90a",
   "metadata": {},
   "outputs": [],
   "source": [
    "fs = s3fs.S3FileSystem()"
   ]
  },
  {
   "cell_type": "code",
   "execution_count": null,
   "id": "d936068f",
   "metadata": {},
   "outputs": [],
   "source": [
    "def search_image(root_path, all_files = []):\n",
    "    files = fs.ls(root_path) \n",
    "    for file in files:\n",
    "        if not fs.isdir(file):\n",
    "            all_files.append(file)\n",
    "        else:\n",
    "            search_image(file,all_files)\n",
    "    return all_files"
   ]
  },
  {
   "cell_type": "code",
   "execution_count": null,
   "id": "3b103894",
   "metadata": {},
   "outputs": [],
   "source": [
    "subdirs = fs.ls('...')\n",
    "absroot = []\n",
    "for d in subdirs:\n",
    "    if (d[-10:-4] == 'xdfp11'):\n",
    "        absroot.append(d)\n",
    "for i in absroot:\n",
    "    files_001 = search_image(i)"
   ]
  },
  {
   "cell_type": "code",
   "execution_count": null,
   "id": "51a535b3",
   "metadata": {},
   "outputs": [],
   "source": []
  }
 ],
 "metadata": {
  "kernelspec": {
   "display_name": "conda_amazonei_tensorflow_p36",
   "language": "python",
   "name": "conda_amazonei_tensorflow_p36"
  },
  "language_info": {
   "codemirror_mode": {
    "name": "ipython",
    "version": 3
   },
   "file_extension": ".py",
   "mimetype": "text/x-python",
   "name": "python",
   "nbconvert_exporter": "python",
   "pygments_lexer": "ipython3",
   "version": "3.6.10"
  }
 },
 "nbformat": 4,
 "nbformat_minor": 5
}
