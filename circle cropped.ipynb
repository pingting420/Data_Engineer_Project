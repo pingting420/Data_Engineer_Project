{
 "cells": [
  {
   "cell_type": "code",
   "execution_count": null,
   "id": "66d28ffb",
   "metadata": {},
   "outputs": [],
   "source": [
    "This pipeline could help crop images to circle size, and analyze the result."
   ]
  },
  {
   "cell_type": "code",
   "execution_count": 1,
   "id": "b498a6de",
   "metadata": {},
   "outputs": [],
   "source": [
    "import boto3\n",
    "import io\n",
    "from PIL import Image,ImageDraw\n",
    "import s3fs\n",
    "fs = s3fs.S3FileSystem()\n",
    "s3 = boto3.client('s3', region_name='us-east-2')\n",
    "import tensorflow as tf\n",
    "import pandas as pd\n",
    "from tensorflow.contrib.predictor import from_saved_model\n",
    "import s3fs\n",
    "import pandas as pd\n",
    "import numpy as np"
   ]
  },
  {
   "cell_type": "code",
   "execution_count": 2,
   "id": "e92f35e7",
   "metadata": {},
   "outputs": [],
   "source": [
    "def crop_save(s3, old_path:tuple, new_path:tuple):\n",
    "    '''\n",
    "    s3: reference of s3 client\n",
    "    old_path = (old_bucket,old_key)\n",
    "    new_path = (new_bucket,new_key)\n",
    "    kcrop = {'l':rate0,'t':rate1,'r':rate2,'b':rate3}\n",
    "    '''\n",
    "    down_stream = s3.get_object(Bucket=old_path[0],Key=old_path[1])['Body']\n",
    "    im = Image.open(down_stream)\n",
    "    npImage=np.array(im)\n",
    "    h,w=im.size\n",
    "    radius=0.37\n",
    "    x0 = 0.5*h-radius*w\n",
    "    y0 = (0.5-radius)*w\n",
    "    x1 = 0.5*h + radius*w\n",
    "    y1 = (0.5+radius)*w\n",
    "    alpha = Image.new('L', im.size,0)\n",
    "    draw = ImageDraw.Draw(alpha)\n",
    "    draw.pieslice([x0,y0,x1,y1],0,360,fill=255)\n",
    "    npAlpha=np.array(alpha)\n",
    "    npImage=np.dstack((npImage,npAlpha))\n",
    "    im1 = Image.fromarray(npImage)\n",
    "    up_stream = io.BytesIO()\n",
    "    im1.save(up_stream, format='png')\n",
    "    up_stream.seek(0)\n",
    "    s3.upload_fileobj(up_stream, new_path[0], new_path[1])\n",
    "    down_stream.close()\n",
    "    up_stream.close()\n",
    "    return "
   ]
  },
  {
   "cell_type": "code",
   "execution_count": 3,
   "id": "c8ee9b89",
   "metadata": {},
   "outputs": [],
   "source": [
    "for old_path in fs.ls('Object Name')[1:]:\n",
    "    pos = old_path.find('/')\n",
    "    old_path = (old_path[:pos],old_path[pos+1:])\n",
    "    k = old_path[1]\n",
    "    p = k.rfind('/')\n",
    "    new_path = ('S3 Bucket','Object Name'+'cropped_'+k[p+1:])\n",
    "    crop_save(s3, old_path, new_path)"
   ]
  },
  {
   "cell_type": "code",
   "execution_count": 4,
   "id": "13c87d95",
   "metadata": {},
   "outputs": [],
   "source": [
    "df = fs.ls('Bucket Name')[1:]"
   ]
  },
  {
   "cell_type": "code",
   "execution_count": null,
   "id": "f217a319",
   "metadata": {},
   "outputs": [],
   "source": [
    "df"
   ]
  },
  {
   "cell_type": "code",
   "execution_count": 6,
   "id": "91215826",
   "metadata": {},
   "outputs": [
    {
     "name": "stdout",
     "output_type": "stream",
     "text": [
      "WARNING:tensorflow:From /home/ec2-user/anaconda3/envs/amazonei_tensorflow_p36/lib/python3.6/site-packages/tensorflow_core/contrib/predictor/saved_model_predictor.py:153: load (from tensorflow.python.saved_model.loader_impl) is deprecated and will be removed in a future version.\n",
      "Instructions for updating:\n",
      "This function will only be available through the v1 compatibility library as tf.compat.v1.saved_model.loader.load or tf.compat.v1.saved_model.load. There will be a new function for importing SavedModels in Tensorflow 2.0.\n",
      "INFO:tensorflow:Restoring parameters from model/variables/variables\n"
     ]
    }
   ],
   "source": [
    "model=from_saved_model(\"model\")"
   ]
  },
  {
   "cell_type": "code",
   "execution_count": null,
   "id": "886fb115",
   "metadata": {},
   "outputs": [],
   "source": [
    "my_list = [] #create my_list to append result\n",
    "for file in fs.ls('Bucket Name')[1:]:\n",
    "    fp = fs.open('s3://' + file) #open file\n",
    "    data = {'image_bytes': [fp.read()]} #read image\n",
    "    results = model(data) #call the model\n",
    "    final_result = results['classes'][0][0] #Slicing the first result\n",
    "    if final_result.decode(\"utf-8\").find('Crystal') != -1: #transfer the format of result\n",
    "        my_list.append(str(1))\n",
    "    else:\n",
    "        my_list.append(str(0))"
   ]
  },
  {
   "cell_type": "code",
   "execution_count": null,
   "id": "75da64f2",
   "metadata": {},
   "outputs": [],
   "source": [
    "my_list"
   ]
  },
  {
   "cell_type": "code",
   "execution_count": 19,
   "id": "1620f8c8",
   "metadata": {},
   "outputs": [],
   "source": [
    "result_list = pd.DataFrame(my_list, columns = ['classify']) #transfer the list to dataframe"
   ]
  },
  {
   "cell_type": "code",
   "execution_count": null,
   "id": "70213c2d",
   "metadata": {},
   "outputs": [],
   "source": [
    "df = pd.DataFrame(df, columns = ['id']) #list the file\n",
    "df_final = pd.concat([df, result_list], axis = 1) #concat two dataframes\n",
    "df_final #final result"
   ]
  },
  {
   "cell_type": "code",
   "execution_count": 21,
   "id": "3655d2e6",
   "metadata": {},
   "outputs": [],
   "source": [
    "df_final.to_excel(\"after_circle_crop.xlsx\")"
   ]
  },
  {
   "cell_type": "code",
   "execution_count": 22,
   "id": "a693dd5f",
   "metadata": {},
   "outputs": [
    {
     "data": {
      "text/plain": [
       "1    71\n",
       "0    35\n",
       "Name: classify, dtype: int64"
      ]
     },
     "execution_count": 22,
     "metadata": {},
     "output_type": "execute_result"
    }
   ],
   "source": [
    "df_final['classify'].value_counts()"
   ]
  },
  {
   "cell_type": "code",
   "execution_count": null,
   "id": "d378d11e",
   "metadata": {},
   "outputs": [],
   "source": []
  }
 ],
 "metadata": {
  "kernelspec": {
   "display_name": "conda_amazonei_tensorflow_p36",
   "language": "python",
   "name": "conda_amazonei_tensorflow_p36"
  },
  "language_info": {
   "codemirror_mode": {
    "name": "ipython",
    "version": 3
   },
   "file_extension": ".py",
   "mimetype": "text/x-python",
   "name": "python",
   "nbconvert_exporter": "python",
   "pygments_lexer": "ipython3",
   "version": "3.6.10"
  }
 },
 "nbformat": 4,
 "nbformat_minor": 5
}
